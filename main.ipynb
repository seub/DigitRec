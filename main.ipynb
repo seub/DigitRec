{
 "cells": [
  {
   "cell_type": "markdown",
   "source": [
    "Import the libraries we need:"
   ],
   "metadata": {}
  },
  {
   "cell_type": "code",
   "execution_count": 47,
   "source": [
    "from collections import defaultdict\n",
    "import os\n",
    "import numpy as np\n",
    "import pickle\n",
    "from PIL import Image\n",
    "from typing import Callable"
   ],
   "outputs": [],
   "metadata": {}
  },
  {
   "cell_type": "markdown",
   "source": [
    "Create the class ImageClassifier:"
   ],
   "metadata": {}
  },
  {
   "cell_type": "code",
   "execution_count": null,
   "source": [
    "class ImageClassifier:\n",
    "    def __init__(self, database=None) -> None:\n",
    "        self._database = database\n",
    "\n",
    "    def __str__(self) -> str:\n",
    "        if self._database is not None:\n",
    "            return f\"ImageRegognizer with database of {len(self._database)} different Classes, each containing {len(self._database[0])} images.\"\n",
    "        else:\n",
    "            return \"Empty database!\""
   ],
   "outputs": [],
   "metadata": {}
  },
  {
   "cell_type": "markdown",
   "source": [
    "create_database method in the ImageClassifier class:"
   ],
   "metadata": {}
  },
  {
   "cell_type": "code",
   "execution_count": null,
   "source": [
    "class ImageClassifier(ImageClassifier):\n",
    "    @classmethod\n",
    "    def create_database(cls, imageFolder: str) -> None:\n",
    "        \"\"\"\n",
    "        Create new ImageClassifier, populating the database out of images contained in imageFolder\n",
    "        Images in folder have to follow defined scheme: letter_number.jpg, where letter describes what the image displays (letter 0, letter 1 etc) and number is an incrementing number starting from 0\n",
    "        \"\"\"\n",
    "        database = defaultdict(list)\n",
    "        for number in range(10):\n",
    "            for index in range(\n",
    "                16\n",
    "            ):  # Change 16 to the number of images you have per category\n",
    "                image = Image.open(os.path.join(imageFolder, f\"{number}_{index}.jpg\"))\n",
    "                database[number].append(np.array(image))\n",
    "        return cls(database)"
   ],
   "outputs": [],
   "metadata": {}
  },
  {
   "cell_type": "markdown",
   "source": [
    "load_database and save_database methods in the ImageClassifier class:"
   ],
   "metadata": {}
  },
  {
   "cell_type": "code",
   "execution_count": null,
   "source": [
    "class ImageClassifier(ImageClassifier):\n",
    "    def save_database(self, database_name: str) -> None:\n",
    "        \"\"\"\n",
    "        Save data base to file\n",
    "        \"\"\"\n",
    "        with open(f\"{database_name}.pkl\", \"wb\") as db:\n",
    "            pickle.dump(\n",
    "                self._database, db\n",
    "            )  # Probably not working as I don't know if pickle knows how to handle numpy arrays\n",
    "\n",
    "    def load_database(self, database_name: str) -> None:\n",
    "        \"\"\"\n",
    "        Load database from file\n",
    "        \"\"\"\n",
    "        with open(f\"{database_name}.pkl\", \"rb\") as db:\n",
    "            self._database = pickle.load(db)"
   ],
   "outputs": [],
   "metadata": {}
  },
  {
   "cell_type": "markdown",
   "source": [
    "normalize methods in the ImageClassifier class:"
   ],
   "metadata": {}
  },
  {
   "cell_type": "code",
   "execution_count": null,
   "source": [
    "class ImageClassifier(ImageClassifier):\n",
    "    @staticmethod\n",
    "    def normalize_binary(image: np.array) -> np.array:\n",
    "        \"\"\"\n",
    "        Simple normalize method that normalizes an image to binary according to static pixel value <> 255/2\n",
    "        \"\"\"\n",
    "        return np.apply_along_axis(lambda x: round(np.sum(x) / (3 * 255)), 2, image)\n",
    "\n",
    "    @staticmethod\n",
    "    def normalize_not(image: np.array) -> np.array:\n",
    "        \"\"\"\n",
    "        Use this method if you do not want to normalize an image or database and use raw fotage\n",
    "        \"\"\"\n",
    "        return image\n",
    "\n",
    "    def normalize_database(self, norm_function: Callable[[np.array], np.array]) -> None:\n",
    "        \"\"\"\n",
    "        applies normFunction to every image in Database\n",
    "        \"\"\"\n",
    "        for number, images in self._database.items():\n",
    "            self._database[number] = [norm_function(image) for image in images]"
   ],
   "outputs": [],
   "metadata": {}
  },
  {
   "cell_type": "markdown",
   "source": [
    "classify_image method in the ImageClassifier class:"
   ],
   "metadata": {}
  },
  {
   "cell_type": "code",
   "execution_count": null,
   "source": [
    "class ImageClassifier(ImageClassifier):\n",
    "    def classify_image(\n",
    "        self, image_path: str, norm_function: Callable[[np.array], np.array]\n",
    "    ) -> None:\n",
    "        \"\"\"\n",
    "        Classifies image according to database images, apply same normalize function as you applies previously on the whole database\n",
    "        returns tuple of found image class and certainty as a value between 50 and 100, 50 meaning totaly uncertantiy between two possible classes, 100 meaning total certainty\n",
    "        \"\"\"\n",
    "        test_image = Image.open(image_path)\n",
    "        test_image = np.array(test_image)\n",
    "        test_image = norm_function(test_image)\n",
    "        confidence_dict = defaultdict(lambda: 0)\n",
    "        for digit, digit_images in self._database.items():\n",
    "            for image in digit_images:\n",
    "                value, count = np.unique(\n",
    "                    np.add(digit_images, test_image).flatten(), return_counts=True\n",
    "                )\n",
    "                value_count = dict(zip(value, count))\n",
    "                confidence_dict[digit] = value_count[2] - value_count[1]\n",
    "        max_confidence = sorted(confidence_dict.values(), reverse=True)\n",
    "        max_key = max(confidence_dict, key=confidence_dict.get)\n",
    "        return max_key, min(\n",
    "            round(((1.0 / max_confidence[0]) * max_confidence[1]) * 100, 2), 100.00\n",
    "        )"
   ],
   "outputs": [],
   "metadata": {}
  },
  {
   "cell_type": "markdown",
   "source": [
    "Test the image classifier on the files test0.jpg, test1.jpg, etc:"
   ],
   "metadata": {}
  },
  {
   "cell_type": "code",
   "execution_count": 51,
   "source": [
    "# imgFolder = os.getcwd() + \"/images\"\n",
    "imgFolder = \"JB/images\"\n",
    "image_classifier = ImageClassifier.create_database(imageFolder=imgFolder)\n",
    "print(image_classifier)\n",
    "image_classifier.normalize_database(ImageClassifier.normalize_binary)\n",
    "for number in range(10):\n",
    "    print(\n",
    "        image_classifier.classify_image(\n",
    "            f\"JB/test{number}.jpg\", ImageClassifier.normalize_binary\n",
    "        )\n",
    "    )"
   ],
   "outputs": [
    {
     "output_type": "stream",
     "name": "stdout",
     "text": [
      "ImageRegognizer with database of 10 different Classes, each containing 16 images.\n",
      "(0, 71.44)\n",
      "(1, 69.97)\n",
      "(2, 73.63)\n",
      "(3, 79.5)\n",
      "(4, 56.91)\n",
      "(5, 73.31)\n",
      "(6, 69.64)\n",
      "(7, 62.26)\n",
      "(8, 92.16)\n",
      "(9, 78.74)\n"
     ]
    }
   ],
   "metadata": {}
  }
 ],
 "metadata": {
  "orig_nbformat": 4,
  "language_info": {
   "name": "python",
   "version": "3.9.7",
   "mimetype": "text/x-python",
   "codemirror_mode": {
    "name": "ipython",
    "version": 3
   },
   "pygments_lexer": "ipython3",
   "nbconvert_exporter": "python",
   "file_extension": ".py"
  },
  "kernelspec": {
   "name": "python3",
   "display_name": "Python 3.9.7 64-bit"
  },
  "interpreter": {
   "hash": "916dbcbb3f70747c44a77c7bcd40155683ae19c65e1c03b4aa3499c5328201f1"
  }
 },
 "nbformat": 4,
 "nbformat_minor": 2
}